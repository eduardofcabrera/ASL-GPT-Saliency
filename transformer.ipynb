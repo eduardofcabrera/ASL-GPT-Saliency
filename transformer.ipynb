{
 "cells": [
  {
   "cell_type": "code",
   "execution_count": 1,
   "metadata": {},
   "outputs": [
    {
     "name": "stderr",
     "output_type": "stream",
     "text": [
      "/usr/local/lib/python3.10/site-packages/tqdm/auto.py:21: TqdmWarning: IProgress not found. Please update jupyter and ipywidgets. See https://ipywidgets.readthedocs.io/en/stable/user_install.html\n",
      "  from .autonotebook import tqdm as notebook_tqdm\n"
     ]
    }
   ],
   "source": [
    "import numpy as np\n",
    "from allennlp_models import pretrained\n",
    "from allennlp.predictors import Predictor\n",
    "from allennlp.interpret.saliency_interpreters import SimpleGradient, IntegratedGradient, SmoothGradient\n",
    "from tqdm import tqdm\n",
    "import pandas as pd\n",
    "import matplotlib.pyplot as plt\n",
    "import plotly.graph_objects as go"
   ]
  },
  {
   "cell_type": "code",
   "execution_count": 15,
   "metadata": {},
   "outputs": [
    {
     "name": "stderr",
     "output_type": "stream",
     "text": [
      "[nltk_data] Downloading package punkt to /root/nltk_data...\n",
      "[nltk_data]   Unzipping tokenizers/punkt.zip.\n",
      "[nltk_data] Downloading package wordnet to /root/nltk_data...\n",
      "lerc is not a registered model.\n"
     ]
    },
    {
     "name": "stdout",
     "output_type": "stream",
     "text": [
      "{'roberta-sst': <allennlp.common.model_card.ModelCard object at 0x7f1e5b66c7c0>, 'pair-classification-binary-gender-bias-mitigated-roberta-snli': <allennlp.common.model_card.ModelCard object at 0x7f1e58ce7be0>, 'semparse-nlvr': <allennlp.common.model_card.ModelCard object at 0x7f1e58d1d8a0>, 'mc-roberta-swag': <allennlp.common.model_card.ModelCard object at 0x7f1e59273c40>, 'tagging-fine-grained-crf-tagger': <allennlp.common.model_card.ModelCard object at 0x7f1e58d1e3b0>, 'vgqa-vilbert': <allennlp.common.model_card.ModelCard object at 0x7f1e58d1feb0>, 'rc-nmn': <allennlp.common.model_card.ModelCard object at 0x7f1e58d1f850>, 'mc-roberta-piqa': <allennlp.common.model_card.ModelCard object at 0x7f1e58d34130>, 'glove-sst': <allennlp.common.model_card.ModelCard object at 0x7f1e58ce7e50>, 'coref-spanbert': <allennlp.common.model_card.ModelCard object at 0x7f1e58d36110>, 'lm-masked-language-model': <allennlp.common.model_card.ModelCard object at 0x7f1e58d37220>, 'pair-classification-esim': <allennlp.common.model_card.ModelCard object at 0x7f1e58d37fd0>, 'structured-prediction-srl-bert': <allennlp.common.model_card.ModelCard object at 0x7f1e58d1cfd0>, 'generation-bart': <allennlp.common.model_card.ModelCard object at 0x7f1e58d1f9a0>, 'pair-classification-roberta-rte': <allennlp.common.model_card.ModelCard object at 0x7f1e58d41840>, 'lm-next-token-lm-gpt2': <allennlp.common.model_card.ModelCard object at 0x7f1e58d37a00>, 'mc-roberta-commonsenseqa': <allennlp.common.model_card.ModelCard object at 0x7f1e58d358d0>, 'evaluate_rc-lerc': <allennlp.common.model_card.ModelCard object at 0x7f1e58d41660>, 'structured-prediction-constituency-parser': <allennlp.common.model_card.ModelCard object at 0x7f1e58d1e170>, 'pair-classification-roberta-mnli': <allennlp.common.model_card.ModelCard object at 0x7f1e58d35510>, 'semparse-wikitables': <allennlp.common.model_card.ModelCard object at 0x7f1e58d35300>, 'structured-prediction-biaffine-parser': <allennlp.common.model_card.ModelCard object at 0x7f1e58d49f90>, 'rc-naqanet': <allennlp.common.model_card.ModelCard object at 0x7f1e58d43bb0>, 'vqa-vilbert': <allennlp.common.model_card.ModelCard object at 0x7f1e58d41930>, 'rc-bidaf-elmo': <allennlp.common.model_card.ModelCard object at 0x7f1e58d49e40>, 'tagging-fine-grained-transformer-crf-tagger': <allennlp.common.model_card.ModelCard object at 0x7f1e58d43940>, 'pair-classification-adversarial-binary-gender-bias-mitigated-roberta-snli': <allennlp.common.model_card.ModelCard object at 0x7f1e58d50f70>, 'semparse-text-to-sql': <allennlp.common.model_card.ModelCard object at 0x7f1e58d4ae00>, 'nlvr2-vilbert': <allennlp.common.model_card.ModelCard object at 0x7f1e58d618d0>, 'rc-bidaf': <allennlp.common.model_card.ModelCard object at 0x7f1e58d51ba0>, 'pair-classification-decomposable-attention-elmo': <allennlp.common.model_card.ModelCard object at 0x7f1e58d36950>, 'structured-prediction-srl': <allennlp.common.model_card.ModelCard object at 0x7f1e58d506a0>, 'rc-transformer-qa': <allennlp.common.model_card.ModelCard object at 0x7f1e58d53f40>, 'tagging-elmo-crf-tagger': <allennlp.common.model_card.ModelCard object at 0x7f1e58d53760>, 've-vilbert': <allennlp.common.model_card.ModelCard object at 0x7f1e58d51ea0>, 'pair-classification-roberta-snli': <allennlp.common.model_card.ModelCard object at 0x7f1e58d61cf0>}\n"
     ]
    }
   ],
   "source": [
    "print(pretrained.get_pretrained_models())"
   ]
  },
  {
   "cell_type": "code",
   "execution_count": 2,
   "metadata": {},
   "outputs": [
    {
     "name": "stderr",
     "output_type": "stream",
     "text": [
      "lerc is not a registered model.\n"
     ]
    }
   ],
   "source": [
    "predictor = pretrained.load_predictor(\"lm-next-token-lm-gpt2\")"
   ]
  },
  {
   "cell_type": "code",
   "execution_count": 21,
   "metadata": {},
   "outputs": [
    {
     "data": {
      "text/plain": [
       "{'token_ids': [31359,\n",
       "  30836,\n",
       "  11,\n",
       "  508,\n",
       "  389,\n",
       "  3058,\n",
       "  8165,\n",
       "  329,\n",
       "  262,\n",
       "  4652,\n",
       "  3554,\n",
       "  287,\n",
       "  7864],\n",
       " 'top_indices': [[11], [351], [357], [13], [290]],\n",
       " 'probabilities': [0.29245299100875854,\n",
       "  0.13100479543209076,\n",
       "  0.12022867053747177,\n",
       "  0.08953401446342468,\n",
       "  0.07160692662000656],\n",
       " 'top_tokens': [[','], ['Ġwith'], ['Ġ('], ['.'], ['Ġand']],\n",
       " 'tokens': ['Toronto',\n",
       "  'ĠRaptors',\n",
       "  ',',\n",
       "  'Ġwho',\n",
       "  'Ġare',\n",
       "  'Ġcurrently',\n",
       "  'Ġtied',\n",
       "  'Ġfor',\n",
       "  'Ġthe',\n",
       "  'Ġleague',\n",
       "  'Ġleader',\n",
       "  'Ġin',\n",
       "  'Ġwins']}"
      ]
     },
     "execution_count": 21,
     "metadata": {},
     "output_type": "execute_result"
    }
   ],
   "source": [
    "sample_text = \"Toronto Raptors, who are currently tied for the league leader in wins\"\n",
    "predictor.predict(sample_text)"
   ]
  },
  {
   "cell_type": "code",
   "execution_count": 7,
   "metadata": {},
   "outputs": [],
   "source": [
    "tokenizer = predictor._dataset_reader._tokenizer.tokenizer"
   ]
  },
  {
   "cell_type": "code",
   "execution_count": 3,
   "metadata": {},
   "outputs": [],
   "source": [
    "class AutoRegressiveGPT():\n",
    "    def __init__(self, predictor: Predictor, interpreter: Predictor):\n",
    "        self.predictor = predictor\n",
    "        self.interpreter = interpreter\n",
    "    \n",
    "    def generate(self, inputs, max_length: int =10):\n",
    "        for _ in tqdm(range(max_length)):\n",
    "            outputs = predictor.predict(inputs)\n",
    "            probabilities = np.array(outputs[\"probabilities\"])\n",
    "            probabilities = probabilities / probabilities.sum()\n",
    "            top_tokens = outputs[\"top_tokens\"]\n",
    "            top_tokens = np.array(top_tokens).reshape(-1)\n",
    "            token = np.random.choice(top_tokens, 1, p=probabilities)[0]\n",
    "            if token[0] == \"Ġ\" or token[0] == \"Ċ\":\n",
    "                token = \" \"+token[1:]\n",
    "            inputs += token\n",
    "                \n",
    "        return inputs\n",
    "    \n",
    "    def generate_and_saliency_score(self, inputs, max_length: int =10):\n",
    "        grad_matrix = []\n",
    "        for _ in tqdm(range(max_length)):\n",
    "            outputs = predictor.predict(inputs)\n",
    "            probabilities = np.array(outputs[\"probabilities\"])\n",
    "            probabilities = probabilities / probabilities.sum()\n",
    "            top_tokens = outputs[\"top_tokens\"]\n",
    "            top_tokens = np.array(top_tokens).reshape(-1)\n",
    "            token = np.random.choice(top_tokens, 1, p=probabilities)[0]\n",
    "            if token[0] == \"Ġ\" or token[0] == \"Ċ\":\n",
    "                token = \" \"+token[1:]\n",
    "            \n",
    "            interpretation = self.interpreter.saliency_interpret_from_json({\"sentence\": inputs})\n",
    "            grads = np.array(interpretation['instance_1']['grad_input_1'])\n",
    "            grad_matrix.append(grads)\n",
    "            \n",
    "            inputs += token\n",
    "                \n",
    "        return inputs, grad_matrix\n",
    "    \n",
    "    def get_score_from_grad_matrix(self, grad_matrix: list[list]):\n",
    "        n_inputs = len(grad_matrix[0])\n",
    "        n_outputs = len(grad_matrix)\n",
    "\n",
    "        scores = np.zeros((n_inputs, n_outputs))\n",
    "\n",
    "        for n in tqdm(range(n_outputs)):\n",
    "            if n == 0:\n",
    "                scores[:, n] = grad_matrix[n]\n",
    "            else:\n",
    "                sum_ = 0\n",
    "                for j in range(1,n+1):\n",
    "                    sum_ += scores[:, n-j]*grad_matrix[n][-j]\n",
    "                scores[:, n] = grad_matrix[n][:n_inputs] + sum_\n",
    "        return scores\n",
    "    \n",
    "    def get_scores_from_text(self, text: str, max_length: int = 10):\n",
    "        result, grad_matrix = self.generate_and_saliency_score(text, max_length)\n",
    "        scores = self.get_score_from_grad_matrix(grad_matrix)\n",
    "        \n",
    "        return result, scores\n"
   ]
  },
  {
   "cell_type": "code",
   "execution_count": 4,
   "metadata": {},
   "outputs": [],
   "source": [
    "interpreter = SmoothGradient(predictor)\n",
    "generator = AutoRegressiveGPT(predictor=predictor, interpreter=interpreter)"
   ]
  },
  {
   "cell_type": "code",
   "execution_count": 218,
   "metadata": {},
   "outputs": [
    {
     "data": {
      "text/plain": [
       "'test text. The \"text'"
      ]
     },
     "execution_count": 218,
     "metadata": {},
     "output_type": "execute_result"
    }
   ],
   "source": [
    "generator.generate(\"test text\", max_length=4)"
   ]
  },
  {
   "cell_type": "code",
   "execution_count": 220,
   "metadata": {},
   "outputs": [],
   "source": [
    "result, grad_matrix = generator.generate_and_saliency_score(\"test text\", max_length=5)"
   ]
  },
  {
   "cell_type": "code",
   "execution_count": 42,
   "metadata": {},
   "outputs": [
    {
     "name": "stderr",
     "output_type": "stream",
     "text": [
      "  0%|          | 0/10 [00:00<?, ?it/s]/usr/local/lib/python3.10/site-packages/torch/nn/modules/module.py:1053: UserWarning:\n",
      "\n",
      "Using a non-full backward hook when the forward contains multiple autograd Nodes is deprecated and will be removed in future versions. This hook will be missing some grad_input. Please use register_full_backward_hook to get the documented behavior.\n",
      "\n",
      "100%|██████████| 10/10 [00:45<00:00,  4.51s/it]\n",
      "100%|██████████| 10/10 [00:00<00:00, 6230.40it/s]\n"
     ]
    }
   ],
   "source": [
    "result, scores = generator.get_scores_from_text(\"Toronto Raptors, who are currently tied for the league leader in wins\", max_length=10)"
   ]
  },
  {
   "cell_type": "code",
   "execution_count": 43,
   "metadata": {},
   "outputs": [],
   "source": [
    "tokens = tokenizer.encode(result)\n",
    "words = [tokenizer.decode(token) for token in tokens]"
   ]
  },
  {
   "cell_type": "code",
   "execution_count": 44,
   "metadata": {},
   "outputs": [
    {
     "data": {
      "text/plain": [
       "['Toronto',\n",
       " ' Raptors',\n",
       " ',',\n",
       " ' who',\n",
       " ' are',\n",
       " ' currently',\n",
       " ' tied',\n",
       " ' for',\n",
       " ' the',\n",
       " ' league',\n",
       " ' leader',\n",
       " ' in',\n",
       " ' wins']"
      ]
     },
     "execution_count": 44,
     "metadata": {},
     "output_type": "execute_result"
    }
   ],
   "source": [
    "words[:13]"
   ]
  },
  {
   "cell_type": "code",
   "execution_count": 45,
   "metadata": {},
   "outputs": [],
   "source": [
    "scores_round = np.round(scores, 3)"
   ]
  },
  {
   "cell_type": "code",
   "execution_count": 46,
   "metadata": {},
   "outputs": [
    {
     "data": {
      "application/vnd.plotly.v1+json": {
       "config": {
        "plotlyServerURL": "https://plot.ly"
       },
       "data": [
        {
         "coloraxis": "coloraxis",
         "hovertemplate": "x: %{x}<br>y: %{y}<br>color: %{z}<extra></extra>",
         "name": "0",
         "texttemplate": "%{z}",
         "type": "heatmap",
         "x": [
          ".",
          " They",
          "'re",
          " also",
          " tied",
          " for",
          " fifth",
          " in",
          " points",
          " allowed"
         ],
         "xaxis": "x",
         "y": [
          "Toronto",
          " Raptors",
          ",",
          " who",
          " are",
          " currently",
          " tied",
          " for",
          " the",
          " league",
          " leader",
          " in",
          " wins"
         ],
         "yaxis": "y",
         "z": [
          [
           0.159,
           0.156,
           0.045,
           0.161,
           0.36,
           0.078,
           0.174,
           0.074,
           0.137,
           0.148
          ],
          [
           0.064,
           0.024,
           0.039,
           0.08,
           0.093,
           0.108,
           0.052,
           0.031,
           0.183,
           0.232
          ],
          [
           0.255,
           0.287,
           0.199,
           0.08,
           0.032,
           0.235,
           0.114,
           0.274,
           0.122,
           0.116
          ],
          [
           0.088,
           0.081,
           0.172,
           0.115,
           0.101,
           0.073,
           0.071,
           0.088,
           0.052,
           0.037
          ],
          [
           0.064,
           0.048,
           0.094,
           0.051,
           0.02,
           0.11,
           0.044,
           0.076,
           0.016,
           0.037
          ],
          [
           0.009,
           0.003,
           0.081,
           0.08,
           0.09,
           0.057,
           0.034,
           0.019,
           0.053,
           0.018
          ],
          [
           0.032,
           0.024,
           0.04,
           0.06,
           0.048,
           0.057,
           0.064,
           0.021,
           0.048,
           0.05
          ],
          [
           0.088,
           0.057,
           0.058,
           0.058,
           0.031,
           0.087,
           0.123,
           0.061,
           0.063,
           0.041
          ],
          [
           0.032,
           0.107,
           0.065,
           0.051,
           0.03,
           0.059,
           0.042,
           0.071,
           0.042,
           0.028
          ],
          [
           0.004,
           0.019,
           0.064,
           0.079,
           0.005,
           0.009,
           0.054,
           0.022,
           0.076,
           0.105
          ],
          [
           0.016,
           0.013,
           0.004,
           0.091,
           0.046,
           0.064,
           0.075,
           0.086,
           0.042,
           0.072
          ],
          [
           0.159,
           0.108,
           0.072,
           0.056,
           0.069,
           0.048,
           0.062,
           0.088,
           0.035,
           0.075
          ],
          [
           0.032,
           0.072,
           0.067,
           0.037,
           0.076,
           0.016,
           0.092,
           0.089,
           0.131,
           0.042
          ]
         ]
        }
       ],
       "layout": {
        "coloraxis": {
         "colorscale": [
          [
           0,
           "rgb(255,255,255)"
          ],
          [
           0.125,
           "rgb(240,240,240)"
          ],
          [
           0.25,
           "rgb(217,217,217)"
          ],
          [
           0.375,
           "rgb(189,189,189)"
          ],
          [
           0.5,
           "rgb(150,150,150)"
          ],
          [
           0.625,
           "rgb(115,115,115)"
          ],
          [
           0.75,
           "rgb(82,82,82)"
          ],
          [
           0.875,
           "rgb(37,37,37)"
          ],
          [
           1,
           "rgb(0,0,0)"
          ]
         ]
        },
        "height": 1200,
        "margin": {
         "t": 60
        },
        "template": {
         "data": {
          "bar": [
           {
            "error_x": {
             "color": "#2a3f5f"
            },
            "error_y": {
             "color": "#2a3f5f"
            },
            "marker": {
             "line": {
              "color": "#E5ECF6",
              "width": 0.5
             },
             "pattern": {
              "fillmode": "overlay",
              "size": 10,
              "solidity": 0.2
             }
            },
            "type": "bar"
           }
          ],
          "barpolar": [
           {
            "marker": {
             "line": {
              "color": "#E5ECF6",
              "width": 0.5
             },
             "pattern": {
              "fillmode": "overlay",
              "size": 10,
              "solidity": 0.2
             }
            },
            "type": "barpolar"
           }
          ],
          "carpet": [
           {
            "aaxis": {
             "endlinecolor": "#2a3f5f",
             "gridcolor": "white",
             "linecolor": "white",
             "minorgridcolor": "white",
             "startlinecolor": "#2a3f5f"
            },
            "baxis": {
             "endlinecolor": "#2a3f5f",
             "gridcolor": "white",
             "linecolor": "white",
             "minorgridcolor": "white",
             "startlinecolor": "#2a3f5f"
            },
            "type": "carpet"
           }
          ],
          "choropleth": [
           {
            "colorbar": {
             "outlinewidth": 0,
             "ticks": ""
            },
            "type": "choropleth"
           }
          ],
          "contour": [
           {
            "colorbar": {
             "outlinewidth": 0,
             "ticks": ""
            },
            "colorscale": [
             [
              0,
              "#0d0887"
             ],
             [
              0.1111111111111111,
              "#46039f"
             ],
             [
              0.2222222222222222,
              "#7201a8"
             ],
             [
              0.3333333333333333,
              "#9c179e"
             ],
             [
              0.4444444444444444,
              "#bd3786"
             ],
             [
              0.5555555555555556,
              "#d8576b"
             ],
             [
              0.6666666666666666,
              "#ed7953"
             ],
             [
              0.7777777777777778,
              "#fb9f3a"
             ],
             [
              0.8888888888888888,
              "#fdca26"
             ],
             [
              1,
              "#f0f921"
             ]
            ],
            "type": "contour"
           }
          ],
          "contourcarpet": [
           {
            "colorbar": {
             "outlinewidth": 0,
             "ticks": ""
            },
            "type": "contourcarpet"
           }
          ],
          "heatmap": [
           {
            "colorbar": {
             "outlinewidth": 0,
             "ticks": ""
            },
            "colorscale": [
             [
              0,
              "#0d0887"
             ],
             [
              0.1111111111111111,
              "#46039f"
             ],
             [
              0.2222222222222222,
              "#7201a8"
             ],
             [
              0.3333333333333333,
              "#9c179e"
             ],
             [
              0.4444444444444444,
              "#bd3786"
             ],
             [
              0.5555555555555556,
              "#d8576b"
             ],
             [
              0.6666666666666666,
              "#ed7953"
             ],
             [
              0.7777777777777778,
              "#fb9f3a"
             ],
             [
              0.8888888888888888,
              "#fdca26"
             ],
             [
              1,
              "#f0f921"
             ]
            ],
            "type": "heatmap"
           }
          ],
          "heatmapgl": [
           {
            "colorbar": {
             "outlinewidth": 0,
             "ticks": ""
            },
            "colorscale": [
             [
              0,
              "#0d0887"
             ],
             [
              0.1111111111111111,
              "#46039f"
             ],
             [
              0.2222222222222222,
              "#7201a8"
             ],
             [
              0.3333333333333333,
              "#9c179e"
             ],
             [
              0.4444444444444444,
              "#bd3786"
             ],
             [
              0.5555555555555556,
              "#d8576b"
             ],
             [
              0.6666666666666666,
              "#ed7953"
             ],
             [
              0.7777777777777778,
              "#fb9f3a"
             ],
             [
              0.8888888888888888,
              "#fdca26"
             ],
             [
              1,
              "#f0f921"
             ]
            ],
            "type": "heatmapgl"
           }
          ],
          "histogram": [
           {
            "marker": {
             "pattern": {
              "fillmode": "overlay",
              "size": 10,
              "solidity": 0.2
             }
            },
            "type": "histogram"
           }
          ],
          "histogram2d": [
           {
            "colorbar": {
             "outlinewidth": 0,
             "ticks": ""
            },
            "colorscale": [
             [
              0,
              "#0d0887"
             ],
             [
              0.1111111111111111,
              "#46039f"
             ],
             [
              0.2222222222222222,
              "#7201a8"
             ],
             [
              0.3333333333333333,
              "#9c179e"
             ],
             [
              0.4444444444444444,
              "#bd3786"
             ],
             [
              0.5555555555555556,
              "#d8576b"
             ],
             [
              0.6666666666666666,
              "#ed7953"
             ],
             [
              0.7777777777777778,
              "#fb9f3a"
             ],
             [
              0.8888888888888888,
              "#fdca26"
             ],
             [
              1,
              "#f0f921"
             ]
            ],
            "type": "histogram2d"
           }
          ],
          "histogram2dcontour": [
           {
            "colorbar": {
             "outlinewidth": 0,
             "ticks": ""
            },
            "colorscale": [
             [
              0,
              "#0d0887"
             ],
             [
              0.1111111111111111,
              "#46039f"
             ],
             [
              0.2222222222222222,
              "#7201a8"
             ],
             [
              0.3333333333333333,
              "#9c179e"
             ],
             [
              0.4444444444444444,
              "#bd3786"
             ],
             [
              0.5555555555555556,
              "#d8576b"
             ],
             [
              0.6666666666666666,
              "#ed7953"
             ],
             [
              0.7777777777777778,
              "#fb9f3a"
             ],
             [
              0.8888888888888888,
              "#fdca26"
             ],
             [
              1,
              "#f0f921"
             ]
            ],
            "type": "histogram2dcontour"
           }
          ],
          "mesh3d": [
           {
            "colorbar": {
             "outlinewidth": 0,
             "ticks": ""
            },
            "type": "mesh3d"
           }
          ],
          "parcoords": [
           {
            "line": {
             "colorbar": {
              "outlinewidth": 0,
              "ticks": ""
             }
            },
            "type": "parcoords"
           }
          ],
          "pie": [
           {
            "automargin": true,
            "type": "pie"
           }
          ],
          "scatter": [
           {
            "fillpattern": {
             "fillmode": "overlay",
             "size": 10,
             "solidity": 0.2
            },
            "type": "scatter"
           }
          ],
          "scatter3d": [
           {
            "line": {
             "colorbar": {
              "outlinewidth": 0,
              "ticks": ""
             }
            },
            "marker": {
             "colorbar": {
              "outlinewidth": 0,
              "ticks": ""
             }
            },
            "type": "scatter3d"
           }
          ],
          "scattercarpet": [
           {
            "marker": {
             "colorbar": {
              "outlinewidth": 0,
              "ticks": ""
             }
            },
            "type": "scattercarpet"
           }
          ],
          "scattergeo": [
           {
            "marker": {
             "colorbar": {
              "outlinewidth": 0,
              "ticks": ""
             }
            },
            "type": "scattergeo"
           }
          ],
          "scattergl": [
           {
            "marker": {
             "colorbar": {
              "outlinewidth": 0,
              "ticks": ""
             }
            },
            "type": "scattergl"
           }
          ],
          "scattermapbox": [
           {
            "marker": {
             "colorbar": {
              "outlinewidth": 0,
              "ticks": ""
             }
            },
            "type": "scattermapbox"
           }
          ],
          "scatterpolar": [
           {
            "marker": {
             "colorbar": {
              "outlinewidth": 0,
              "ticks": ""
             }
            },
            "type": "scatterpolar"
           }
          ],
          "scatterpolargl": [
           {
            "marker": {
             "colorbar": {
              "outlinewidth": 0,
              "ticks": ""
             }
            },
            "type": "scatterpolargl"
           }
          ],
          "scatterternary": [
           {
            "marker": {
             "colorbar": {
              "outlinewidth": 0,
              "ticks": ""
             }
            },
            "type": "scatterternary"
           }
          ],
          "surface": [
           {
            "colorbar": {
             "outlinewidth": 0,
             "ticks": ""
            },
            "colorscale": [
             [
              0,
              "#0d0887"
             ],
             [
              0.1111111111111111,
              "#46039f"
             ],
             [
              0.2222222222222222,
              "#7201a8"
             ],
             [
              0.3333333333333333,
              "#9c179e"
             ],
             [
              0.4444444444444444,
              "#bd3786"
             ],
             [
              0.5555555555555556,
              "#d8576b"
             ],
             [
              0.6666666666666666,
              "#ed7953"
             ],
             [
              0.7777777777777778,
              "#fb9f3a"
             ],
             [
              0.8888888888888888,
              "#fdca26"
             ],
             [
              1,
              "#f0f921"
             ]
            ],
            "type": "surface"
           }
          ],
          "table": [
           {
            "cells": {
             "fill": {
              "color": "#EBF0F8"
             },
             "line": {
              "color": "white"
             }
            },
            "header": {
             "fill": {
              "color": "#C8D4E3"
             },
             "line": {
              "color": "white"
             }
            },
            "type": "table"
           }
          ]
         },
         "layout": {
          "annotationdefaults": {
           "arrowcolor": "#2a3f5f",
           "arrowhead": 0,
           "arrowwidth": 1
          },
          "autotypenumbers": "strict",
          "coloraxis": {
           "colorbar": {
            "outlinewidth": 0,
            "ticks": ""
           }
          },
          "colorscale": {
           "diverging": [
            [
             0,
             "#8e0152"
            ],
            [
             0.1,
             "#c51b7d"
            ],
            [
             0.2,
             "#de77ae"
            ],
            [
             0.3,
             "#f1b6da"
            ],
            [
             0.4,
             "#fde0ef"
            ],
            [
             0.5,
             "#f7f7f7"
            ],
            [
             0.6,
             "#e6f5d0"
            ],
            [
             0.7,
             "#b8e186"
            ],
            [
             0.8,
             "#7fbc41"
            ],
            [
             0.9,
             "#4d9221"
            ],
            [
             1,
             "#276419"
            ]
           ],
           "sequential": [
            [
             0,
             "#0d0887"
            ],
            [
             0.1111111111111111,
             "#46039f"
            ],
            [
             0.2222222222222222,
             "#7201a8"
            ],
            [
             0.3333333333333333,
             "#9c179e"
            ],
            [
             0.4444444444444444,
             "#bd3786"
            ],
            [
             0.5555555555555556,
             "#d8576b"
            ],
            [
             0.6666666666666666,
             "#ed7953"
            ],
            [
             0.7777777777777778,
             "#fb9f3a"
            ],
            [
             0.8888888888888888,
             "#fdca26"
            ],
            [
             1,
             "#f0f921"
            ]
           ],
           "sequentialminus": [
            [
             0,
             "#0d0887"
            ],
            [
             0.1111111111111111,
             "#46039f"
            ],
            [
             0.2222222222222222,
             "#7201a8"
            ],
            [
             0.3333333333333333,
             "#9c179e"
            ],
            [
             0.4444444444444444,
             "#bd3786"
            ],
            [
             0.5555555555555556,
             "#d8576b"
            ],
            [
             0.6666666666666666,
             "#ed7953"
            ],
            [
             0.7777777777777778,
             "#fb9f3a"
            ],
            [
             0.8888888888888888,
             "#fdca26"
            ],
            [
             1,
             "#f0f921"
            ]
           ]
          },
          "colorway": [
           "#636efa",
           "#EF553B",
           "#00cc96",
           "#ab63fa",
           "#FFA15A",
           "#19d3f3",
           "#FF6692",
           "#B6E880",
           "#FF97FF",
           "#FECB52"
          ],
          "font": {
           "color": "#2a3f5f"
          },
          "geo": {
           "bgcolor": "white",
           "lakecolor": "white",
           "landcolor": "#E5ECF6",
           "showlakes": true,
           "showland": true,
           "subunitcolor": "white"
          },
          "hoverlabel": {
           "align": "left"
          },
          "hovermode": "closest",
          "mapbox": {
           "style": "light"
          },
          "paper_bgcolor": "white",
          "plot_bgcolor": "#E5ECF6",
          "polar": {
           "angularaxis": {
            "gridcolor": "white",
            "linecolor": "white",
            "ticks": ""
           },
           "bgcolor": "#E5ECF6",
           "radialaxis": {
            "gridcolor": "white",
            "linecolor": "white",
            "ticks": ""
           }
          },
          "scene": {
           "xaxis": {
            "backgroundcolor": "#E5ECF6",
            "gridcolor": "white",
            "gridwidth": 2,
            "linecolor": "white",
            "showbackground": true,
            "ticks": "",
            "zerolinecolor": "white"
           },
           "yaxis": {
            "backgroundcolor": "#E5ECF6",
            "gridcolor": "white",
            "gridwidth": 2,
            "linecolor": "white",
            "showbackground": true,
            "ticks": "",
            "zerolinecolor": "white"
           },
           "zaxis": {
            "backgroundcolor": "#E5ECF6",
            "gridcolor": "white",
            "gridwidth": 2,
            "linecolor": "white",
            "showbackground": true,
            "ticks": "",
            "zerolinecolor": "white"
           }
          },
          "shapedefaults": {
           "line": {
            "color": "#2a3f5f"
           }
          },
          "ternary": {
           "aaxis": {
            "gridcolor": "white",
            "linecolor": "white",
            "ticks": ""
           },
           "baxis": {
            "gridcolor": "white",
            "linecolor": "white",
            "ticks": ""
           },
           "bgcolor": "#E5ECF6",
           "caxis": {
            "gridcolor": "white",
            "linecolor": "white",
            "ticks": ""
           }
          },
          "title": {
           "x": 0.05
          },
          "xaxis": {
           "automargin": true,
           "gridcolor": "white",
           "linecolor": "white",
           "ticks": "",
           "title": {
            "standoff": 15
           },
           "zerolinecolor": "white",
           "zerolinewidth": 2
          },
          "yaxis": {
           "automargin": true,
           "gridcolor": "white",
           "linecolor": "white",
           "ticks": "",
           "title": {
            "standoff": 15
           },
           "zerolinecolor": "white",
           "zerolinewidth": 2
          }
         }
        },
        "width": 1200,
        "xaxis": {
         "anchor": "y",
         "constrain": "domain",
         "domain": [
          0,
          1
         ],
         "scaleanchor": "y",
         "side": "top",
         "tickfont": {
          "size": 20
         }
        },
        "yaxis": {
         "anchor": "x",
         "autorange": "reversed",
         "constrain": "domain",
         "domain": [
          0,
          1
         ],
         "tickfont": {
          "size": 20
         }
        }
       }
      },
      "text/html": [
       "<div>                            <div id=\"20bfc463-d478-42e8-8c2f-ac9e48ab1f82\" class=\"plotly-graph-div\" style=\"height:1200px; width:1200px;\"></div>            <script type=\"text/javascript\">                require([\"plotly\"], function(Plotly) {                    window.PLOTLYENV=window.PLOTLYENV || {};                                    if (document.getElementById(\"20bfc463-d478-42e8-8c2f-ac9e48ab1f82\")) {                    Plotly.newPlot(                        \"20bfc463-d478-42e8-8c2f-ac9e48ab1f82\",                        [{\"coloraxis\":\"coloraxis\",\"name\":\"0\",\"texttemplate\":\"%{z}\",\"x\":[\".\",\" They\",\"'re\",\" also\",\" tied\",\" for\",\" fifth\",\" in\",\" points\",\" allowed\"],\"y\":[\"Toronto\",\" Raptors\",\",\",\" who\",\" are\",\" currently\",\" tied\",\" for\",\" the\",\" league\",\" leader\",\" in\",\" wins\"],\"z\":[[0.159,0.156,0.045,0.161,0.36,0.078,0.174,0.074,0.137,0.148],[0.064,0.024,0.039,0.08,0.093,0.108,0.052,0.031,0.183,0.232],[0.255,0.287,0.199,0.08,0.032,0.235,0.114,0.274,0.122,0.116],[0.088,0.081,0.172,0.115,0.101,0.073,0.071,0.088,0.052,0.037],[0.064,0.048,0.094,0.051,0.02,0.11,0.044,0.076,0.016,0.037],[0.009,0.003,0.081,0.08,0.09,0.057,0.034,0.019,0.053,0.018],[0.032,0.024,0.04,0.06,0.048,0.057,0.064,0.021,0.048,0.05],[0.088,0.057,0.058,0.058,0.031,0.087,0.123,0.061,0.063,0.041],[0.032,0.107,0.065,0.051,0.03,0.059,0.042,0.071,0.042,0.028],[0.004,0.019,0.064,0.079,0.005,0.009,0.054,0.022,0.076,0.105],[0.016,0.013,0.004,0.091,0.046,0.064,0.075,0.086,0.042,0.072],[0.159,0.108,0.072,0.056,0.069,0.048,0.062,0.088,0.035,0.075],[0.032,0.072,0.067,0.037,0.076,0.016,0.092,0.089,0.131,0.042]],\"type\":\"heatmap\",\"xaxis\":\"x\",\"yaxis\":\"y\",\"hovertemplate\":\"x: %{x}\\u003cbr\\u003ey: %{y}\\u003cbr\\u003ecolor: %{z}\\u003cextra\\u003e\\u003c\\u002fextra\\u003e\"}],                        {\"template\":{\"data\":{\"histogram2dcontour\":[{\"type\":\"histogram2dcontour\",\"colorbar\":{\"outlinewidth\":0,\"ticks\":\"\"},\"colorscale\":[[0.0,\"#0d0887\"],[0.1111111111111111,\"#46039f\"],[0.2222222222222222,\"#7201a8\"],[0.3333333333333333,\"#9c179e\"],[0.4444444444444444,\"#bd3786\"],[0.5555555555555556,\"#d8576b\"],[0.6666666666666666,\"#ed7953\"],[0.7777777777777778,\"#fb9f3a\"],[0.8888888888888888,\"#fdca26\"],[1.0,\"#f0f921\"]]}],\"choropleth\":[{\"type\":\"choropleth\",\"colorbar\":{\"outlinewidth\":0,\"ticks\":\"\"}}],\"histogram2d\":[{\"type\":\"histogram2d\",\"colorbar\":{\"outlinewidth\":0,\"ticks\":\"\"},\"colorscale\":[[0.0,\"#0d0887\"],[0.1111111111111111,\"#46039f\"],[0.2222222222222222,\"#7201a8\"],[0.3333333333333333,\"#9c179e\"],[0.4444444444444444,\"#bd3786\"],[0.5555555555555556,\"#d8576b\"],[0.6666666666666666,\"#ed7953\"],[0.7777777777777778,\"#fb9f3a\"],[0.8888888888888888,\"#fdca26\"],[1.0,\"#f0f921\"]]}],\"heatmap\":[{\"type\":\"heatmap\",\"colorbar\":{\"outlinewidth\":0,\"ticks\":\"\"},\"colorscale\":[[0.0,\"#0d0887\"],[0.1111111111111111,\"#46039f\"],[0.2222222222222222,\"#7201a8\"],[0.3333333333333333,\"#9c179e\"],[0.4444444444444444,\"#bd3786\"],[0.5555555555555556,\"#d8576b\"],[0.6666666666666666,\"#ed7953\"],[0.7777777777777778,\"#fb9f3a\"],[0.8888888888888888,\"#fdca26\"],[1.0,\"#f0f921\"]]}],\"heatmapgl\":[{\"type\":\"heatmapgl\",\"colorbar\":{\"outlinewidth\":0,\"ticks\":\"\"},\"colorscale\":[[0.0,\"#0d0887\"],[0.1111111111111111,\"#46039f\"],[0.2222222222222222,\"#7201a8\"],[0.3333333333333333,\"#9c179e\"],[0.4444444444444444,\"#bd3786\"],[0.5555555555555556,\"#d8576b\"],[0.6666666666666666,\"#ed7953\"],[0.7777777777777778,\"#fb9f3a\"],[0.8888888888888888,\"#fdca26\"],[1.0,\"#f0f921\"]]}],\"contourcarpet\":[{\"type\":\"contourcarpet\",\"colorbar\":{\"outlinewidth\":0,\"ticks\":\"\"}}],\"contour\":[{\"type\":\"contour\",\"colorbar\":{\"outlinewidth\":0,\"ticks\":\"\"},\"colorscale\":[[0.0,\"#0d0887\"],[0.1111111111111111,\"#46039f\"],[0.2222222222222222,\"#7201a8\"],[0.3333333333333333,\"#9c179e\"],[0.4444444444444444,\"#bd3786\"],[0.5555555555555556,\"#d8576b\"],[0.6666666666666666,\"#ed7953\"],[0.7777777777777778,\"#fb9f3a\"],[0.8888888888888888,\"#fdca26\"],[1.0,\"#f0f921\"]]}],\"surface\":[{\"type\":\"surface\",\"colorbar\":{\"outlinewidth\":0,\"ticks\":\"\"},\"colorscale\":[[0.0,\"#0d0887\"],[0.1111111111111111,\"#46039f\"],[0.2222222222222222,\"#7201a8\"],[0.3333333333333333,\"#9c179e\"],[0.4444444444444444,\"#bd3786\"],[0.5555555555555556,\"#d8576b\"],[0.6666666666666666,\"#ed7953\"],[0.7777777777777778,\"#fb9f3a\"],[0.8888888888888888,\"#fdca26\"],[1.0,\"#f0f921\"]]}],\"mesh3d\":[{\"type\":\"mesh3d\",\"colorbar\":{\"outlinewidth\":0,\"ticks\":\"\"}}],\"scatter\":[{\"fillpattern\":{\"fillmode\":\"overlay\",\"size\":10,\"solidity\":0.2},\"type\":\"scatter\"}],\"parcoords\":[{\"type\":\"parcoords\",\"line\":{\"colorbar\":{\"outlinewidth\":0,\"ticks\":\"\"}}}],\"scatterpolargl\":[{\"type\":\"scatterpolargl\",\"marker\":{\"colorbar\":{\"outlinewidth\":0,\"ticks\":\"\"}}}],\"bar\":[{\"error_x\":{\"color\":\"#2a3f5f\"},\"error_y\":{\"color\":\"#2a3f5f\"},\"marker\":{\"line\":{\"color\":\"#E5ECF6\",\"width\":0.5},\"pattern\":{\"fillmode\":\"overlay\",\"size\":10,\"solidity\":0.2}},\"type\":\"bar\"}],\"scattergeo\":[{\"type\":\"scattergeo\",\"marker\":{\"colorbar\":{\"outlinewidth\":0,\"ticks\":\"\"}}}],\"scatterpolar\":[{\"type\":\"scatterpolar\",\"marker\":{\"colorbar\":{\"outlinewidth\":0,\"ticks\":\"\"}}}],\"histogram\":[{\"marker\":{\"pattern\":{\"fillmode\":\"overlay\",\"size\":10,\"solidity\":0.2}},\"type\":\"histogram\"}],\"scattergl\":[{\"type\":\"scattergl\",\"marker\":{\"colorbar\":{\"outlinewidth\":0,\"ticks\":\"\"}}}],\"scatter3d\":[{\"type\":\"scatter3d\",\"line\":{\"colorbar\":{\"outlinewidth\":0,\"ticks\":\"\"}},\"marker\":{\"colorbar\":{\"outlinewidth\":0,\"ticks\":\"\"}}}],\"scattermapbox\":[{\"type\":\"scattermapbox\",\"marker\":{\"colorbar\":{\"outlinewidth\":0,\"ticks\":\"\"}}}],\"scatterternary\":[{\"type\":\"scatterternary\",\"marker\":{\"colorbar\":{\"outlinewidth\":0,\"ticks\":\"\"}}}],\"scattercarpet\":[{\"type\":\"scattercarpet\",\"marker\":{\"colorbar\":{\"outlinewidth\":0,\"ticks\":\"\"}}}],\"carpet\":[{\"aaxis\":{\"endlinecolor\":\"#2a3f5f\",\"gridcolor\":\"white\",\"linecolor\":\"white\",\"minorgridcolor\":\"white\",\"startlinecolor\":\"#2a3f5f\"},\"baxis\":{\"endlinecolor\":\"#2a3f5f\",\"gridcolor\":\"white\",\"linecolor\":\"white\",\"minorgridcolor\":\"white\",\"startlinecolor\":\"#2a3f5f\"},\"type\":\"carpet\"}],\"table\":[{\"cells\":{\"fill\":{\"color\":\"#EBF0F8\"},\"line\":{\"color\":\"white\"}},\"header\":{\"fill\":{\"color\":\"#C8D4E3\"},\"line\":{\"color\":\"white\"}},\"type\":\"table\"}],\"barpolar\":[{\"marker\":{\"line\":{\"color\":\"#E5ECF6\",\"width\":0.5},\"pattern\":{\"fillmode\":\"overlay\",\"size\":10,\"solidity\":0.2}},\"type\":\"barpolar\"}],\"pie\":[{\"automargin\":true,\"type\":\"pie\"}]},\"layout\":{\"autotypenumbers\":\"strict\",\"colorway\":[\"#636efa\",\"#EF553B\",\"#00cc96\",\"#ab63fa\",\"#FFA15A\",\"#19d3f3\",\"#FF6692\",\"#B6E880\",\"#FF97FF\",\"#FECB52\"],\"font\":{\"color\":\"#2a3f5f\"},\"hovermode\":\"closest\",\"hoverlabel\":{\"align\":\"left\"},\"paper_bgcolor\":\"white\",\"plot_bgcolor\":\"#E5ECF6\",\"polar\":{\"bgcolor\":\"#E5ECF6\",\"angularaxis\":{\"gridcolor\":\"white\",\"linecolor\":\"white\",\"ticks\":\"\"},\"radialaxis\":{\"gridcolor\":\"white\",\"linecolor\":\"white\",\"ticks\":\"\"}},\"ternary\":{\"bgcolor\":\"#E5ECF6\",\"aaxis\":{\"gridcolor\":\"white\",\"linecolor\":\"white\",\"ticks\":\"\"},\"baxis\":{\"gridcolor\":\"white\",\"linecolor\":\"white\",\"ticks\":\"\"},\"caxis\":{\"gridcolor\":\"white\",\"linecolor\":\"white\",\"ticks\":\"\"}},\"coloraxis\":{\"colorbar\":{\"outlinewidth\":0,\"ticks\":\"\"}},\"colorscale\":{\"sequential\":[[0.0,\"#0d0887\"],[0.1111111111111111,\"#46039f\"],[0.2222222222222222,\"#7201a8\"],[0.3333333333333333,\"#9c179e\"],[0.4444444444444444,\"#bd3786\"],[0.5555555555555556,\"#d8576b\"],[0.6666666666666666,\"#ed7953\"],[0.7777777777777778,\"#fb9f3a\"],[0.8888888888888888,\"#fdca26\"],[1.0,\"#f0f921\"]],\"sequentialminus\":[[0.0,\"#0d0887\"],[0.1111111111111111,\"#46039f\"],[0.2222222222222222,\"#7201a8\"],[0.3333333333333333,\"#9c179e\"],[0.4444444444444444,\"#bd3786\"],[0.5555555555555556,\"#d8576b\"],[0.6666666666666666,\"#ed7953\"],[0.7777777777777778,\"#fb9f3a\"],[0.8888888888888888,\"#fdca26\"],[1.0,\"#f0f921\"]],\"diverging\":[[0,\"#8e0152\"],[0.1,\"#c51b7d\"],[0.2,\"#de77ae\"],[0.3,\"#f1b6da\"],[0.4,\"#fde0ef\"],[0.5,\"#f7f7f7\"],[0.6,\"#e6f5d0\"],[0.7,\"#b8e186\"],[0.8,\"#7fbc41\"],[0.9,\"#4d9221\"],[1,\"#276419\"]]},\"xaxis\":{\"gridcolor\":\"white\",\"linecolor\":\"white\",\"ticks\":\"\",\"title\":{\"standoff\":15},\"zerolinecolor\":\"white\",\"automargin\":true,\"zerolinewidth\":2},\"yaxis\":{\"gridcolor\":\"white\",\"linecolor\":\"white\",\"ticks\":\"\",\"title\":{\"standoff\":15},\"zerolinecolor\":\"white\",\"automargin\":true,\"zerolinewidth\":2},\"scene\":{\"xaxis\":{\"backgroundcolor\":\"#E5ECF6\",\"gridcolor\":\"white\",\"linecolor\":\"white\",\"showbackground\":true,\"ticks\":\"\",\"zerolinecolor\":\"white\",\"gridwidth\":2},\"yaxis\":{\"backgroundcolor\":\"#E5ECF6\",\"gridcolor\":\"white\",\"linecolor\":\"white\",\"showbackground\":true,\"ticks\":\"\",\"zerolinecolor\":\"white\",\"gridwidth\":2},\"zaxis\":{\"backgroundcolor\":\"#E5ECF6\",\"gridcolor\":\"white\",\"linecolor\":\"white\",\"showbackground\":true,\"ticks\":\"\",\"zerolinecolor\":\"white\",\"gridwidth\":2}},\"shapedefaults\":{\"line\":{\"color\":\"#2a3f5f\"}},\"annotationdefaults\":{\"arrowcolor\":\"#2a3f5f\",\"arrowhead\":0,\"arrowwidth\":1},\"geo\":{\"bgcolor\":\"white\",\"landcolor\":\"#E5ECF6\",\"subunitcolor\":\"white\",\"showland\":true,\"showlakes\":true,\"lakecolor\":\"white\"},\"title\":{\"x\":0.05},\"mapbox\":{\"style\":\"light\"}}},\"xaxis\":{\"anchor\":\"y\",\"domain\":[0.0,1.0],\"scaleanchor\":\"y\",\"constrain\":\"domain\",\"side\":\"top\",\"tickfont\":{\"size\":20}},\"yaxis\":{\"anchor\":\"x\",\"domain\":[0.0,1.0],\"autorange\":\"reversed\",\"constrain\":\"domain\",\"tickfont\":{\"size\":20}},\"coloraxis\":{\"colorscale\":[[0.0,\"rgb(255,255,255)\"],[0.125,\"rgb(240,240,240)\"],[0.25,\"rgb(217,217,217)\"],[0.375,\"rgb(189,189,189)\"],[0.5,\"rgb(150,150,150)\"],[0.625,\"rgb(115,115,115)\"],[0.75,\"rgb(82,82,82)\"],[0.875,\"rgb(37,37,37)\"],[1.0,\"rgb(0,0,0)\"]]},\"margin\":{\"t\":60},\"height\":1200,\"width\":1200},                        {\"responsive\": true}                    ).then(function(){\n",
       "                            \n",
       "var gd = document.getElementById('20bfc463-d478-42e8-8c2f-ac9e48ab1f82');\n",
       "var x = new MutationObserver(function (mutations, observer) {{\n",
       "        var display = window.getComputedStyle(gd).display;\n",
       "        if (!display || display === 'none') {{\n",
       "            console.log([gd, 'removed!']);\n",
       "            Plotly.purge(gd);\n",
       "            observer.disconnect();\n",
       "        }}\n",
       "}});\n",
       "\n",
       "// Listen for the removal of the full notebook cells\n",
       "var notebookContainer = gd.closest('#notebook-container');\n",
       "if (notebookContainer) {{\n",
       "    x.observe(notebookContainer, {childList: true});\n",
       "}}\n",
       "\n",
       "// Listen for the clearing of the current output cell\n",
       "var outputEl = gd.closest('.output');\n",
       "if (outputEl) {{\n",
       "    x.observe(outputEl, {childList: true});\n",
       "}}\n",
       "\n",
       "                        })                };                });            </script>        </div>"
      ]
     },
     "metadata": {},
     "output_type": "display_data"
    }
   ],
   "source": [
    "import plotly.express as px\n",
    "fig = px.imshow(\n",
    "        scores_round,\n",
    "        text_auto=True,\n",
    "        y=words[:13],\n",
    "        x=words[13:],\n",
    "        color_continuous_scale='Greys',\n",
    "        width=1200, height=1200\n",
    "        )\n",
    "\n",
    "fig.update_yaxes(autorange=\"reversed\")\n",
    "fig.update_xaxes(side=\"top\")\n",
    "fig.update_layout(\n",
    "yaxis = dict(\n",
    "tickfont = dict(size=20)))\n",
    "fig.update_layout(\n",
    "xaxis = dict(\n",
    "tickfont = dict(size=20)))\n",
    "\n",
    "fig.show()"
   ]
  },
  {
   "cell_type": "code",
   "execution_count": 274,
   "metadata": {},
   "outputs": [
    {
     "data": {
      "text/plain": [
       "(13, 10)"
      ]
     },
     "execution_count": 274,
     "metadata": {},
     "output_type": "execute_result"
    }
   ],
   "source": [
    "scores.shape"
   ]
  },
  {
   "cell_type": "code",
   "execution_count": 257,
   "metadata": {},
   "outputs": [],
   "source": [
    "pd.DataFrame(scores).to_csv(\"scores.csv\", index=False)"
   ]
  },
  {
   "cell_type": "code",
   "execution_count": 254,
   "metadata": {},
   "outputs": [
    {
     "data": {
      "text/plain": [
       "array([1., 1., 1., 1., 1., 1., 1., 1., 1., 1.])"
      ]
     },
     "execution_count": 254,
     "metadata": {},
     "output_type": "execute_result"
    }
   ],
   "source": []
  },
  {
   "cell_type": "code",
   "execution_count": 223,
   "metadata": {},
   "outputs": [],
   "source": [
    "n_inputs = len(grad_matrix[0])\n",
    "n_outputs = len(grad_matrix)\n",
    "\n",
    "scores = np.zeros((n_inputs, n_outputs))\n",
    "\n",
    "for n in range(n_outputs):\n",
    "    if n == 0:\n",
    "        scores[:, n] = grad_matrix[n]\n",
    "    else:\n",
    "        sum_ = 0\n",
    "        for j in range(1,n+1):\n",
    "            sum_ += scores[:, n-j]*grad_matrix[n][-j]\n",
    "        scores[:, n] = grad_matrix[n][:n_inputs] + sum_\n",
    "            \n",
    "    "
   ]
  },
  {
   "cell_type": "code",
   "execution_count": 224,
   "metadata": {},
   "outputs": [
    {
     "data": {
      "text/plain": [
       "array([[0.6       , 0.25882353, 0.61960784, 0.5708061 , 0.5222658 ],\n",
       "       [0.4       , 0.74117647, 0.38039216, 0.4291939 , 0.4777342 ]])"
      ]
     },
     "execution_count": 224,
     "metadata": {},
     "output_type": "execute_result"
    }
   ],
   "source": [
    "scores"
   ]
  },
  {
   "cell_type": "code",
   "execution_count": 225,
   "metadata": {},
   "outputs": [
    {
     "data": {
      "text/plain": [
       "array([1., 1., 1., 1., 1.])"
      ]
     },
     "execution_count": 225,
     "metadata": {},
     "output_type": "execute_result"
    }
   ],
   "source": [
    "scores.sum(axis=0)"
   ]
  },
  {
   "cell_type": "code",
   "execution_count": 177,
   "metadata": {},
   "outputs": [
    {
     "data": {
      "text/plain": [
       "array([0.19875776, 0.04968944, 0.09937888, 0.1552795 , 0.07453416,\n",
       "       0.02173913, 0.1242236 , 0.07453416, 0.0621118 , 0.02795031,\n",
       "       0.03726708, 0.02484472, 0.04968944])"
      ]
     },
     "execution_count": 177,
     "metadata": {},
     "output_type": "execute_result"
    }
   ],
   "source": [
    "plt.rcParams['figure.figsize']=7, 7\n",
    "fig = plt.figure()\n",
    "\n",
    "ax = fig.add_subplot(111)\n"
   ]
  },
  {
   "cell_type": "code",
   "execution_count": 164,
   "metadata": {},
   "outputs": [
    {
     "data": {
      "text/plain": [
       "(14, 15)"
      ]
     },
     "execution_count": 164,
     "metadata": {},
     "output_type": "execute_result"
    }
   ],
   "source": [
    "n, n_inputs"
   ]
  },
  {
   "cell_type": "code",
   "execution_count": 144,
   "metadata": {},
   "outputs": [
    {
     "data": {
      "text/plain": [
       "array([0.03755869, 0.07511737, 0.        , 0.05633803, 0.18779343,\n",
       "       0.05399061, 0.15023474, 0.11267606, 0.11267606, 0.0258216 ,\n",
       "       0.07511737, 0.03755869, 0.07511737, 0.        , 0.        ,\n",
       "       0.        , 0.        , 0.        , 0.        , 0.        ,\n",
       "       0.        , 0.        , 0.        , 0.        , 0.        ,\n",
       "       0.        , 0.        ])"
      ]
     },
     "execution_count": 144,
     "metadata": {},
     "output_type": "execute_result"
    }
   ],
   "source": [
    "grad_matrix[0]"
   ]
  },
  {
   "cell_type": "code",
   "execution_count": 143,
   "metadata": {},
   "outputs": [
    {
     "data": {
      "text/plain": [
       "(15, 27)"
      ]
     },
     "execution_count": 143,
     "metadata": {},
     "output_type": "execute_result"
    }
   ],
   "source": [
    "grad_matrix.shape"
   ]
  },
  {
   "cell_type": "code",
   "execution_count": 142,
   "metadata": {},
   "outputs": [],
   "source": [
    "max_len = len(grad_matrix[-1])\n",
    "grad_matrix = np.array([np.pad(grad_vec, (0, max_len-len(grad_vec)), 'constant') for grad_vec in grad_matrix])"
   ]
  },
  {
   "cell_type": "code",
   "execution_count": 49,
   "metadata": {},
   "outputs": [
    {
     "name": "stderr",
     "output_type": "stream",
     "text": [
      "/usr/local/lib/python3.10/site-packages/torch/nn/modules/module.py:1053: UserWarning: Using a non-full backward hook when the forward contains multiple autograd Nodes is deprecated and will be removed in future versions. This hook will be missing some grad_input. Please use register_full_backward_hook to get the documented behavior.\n",
      "  warnings.warn(\"Using a non-full backward hook when the forward contains multiple autograd Nodes \"\n"
     ]
    }
   ],
   "source": [
    "interpretation = interpreter.saliency_interpret_from_json({\"sentence\": sample_text})\n",
    "grads = np.array(interpretation['instance_1']['grad_input_1'])\n",
    "\n",
    "outputs = predictor.predict(sample_text)\n",
    "probs = np.array(outputs['probabilities'])"
   ]
  },
  {
   "cell_type": "code",
   "execution_count": 63,
   "metadata": {},
   "outputs": [
    {
     "data": {
      "text/plain": [
       "{'token_ids': [31359,\n",
       "  30836,\n",
       "  11,\n",
       "  508,\n",
       "  389,\n",
       "  3058,\n",
       "  8165,\n",
       "  329,\n",
       "  262,\n",
       "  4652,\n",
       "  3554,\n",
       "  287,\n",
       "  7864],\n",
       " 'top_indices': [[11], [351], [357], [13], [290]],\n",
       " 'probabilities': [0.29245299100875854,\n",
       "  0.13100479543209076,\n",
       "  0.12022867053747177,\n",
       "  0.08953401446342468,\n",
       "  0.07160692662000656],\n",
       " 'top_tokens': [[','], ['Ġwith'], ['Ġ('], ['.'], ['Ġand']],\n",
       " 'tokens': ['Toronto',\n",
       "  'ĠRaptors',\n",
       "  ',',\n",
       "  'Ġwho',\n",
       "  'Ġare',\n",
       "  'Ġcurrently',\n",
       "  'Ġtied',\n",
       "  'Ġfor',\n",
       "  'Ġthe',\n",
       "  'Ġleague',\n",
       "  'Ġleader',\n",
       "  'Ġin',\n",
       "  'Ġwins']}"
      ]
     },
     "execution_count": 63,
     "metadata": {},
     "output_type": "execute_result"
    }
   ],
   "source": [
    "outputs"
   ]
  },
  {
   "cell_type": "code",
   "execution_count": 50,
   "metadata": {},
   "outputs": [
    {
     "data": {
      "text/plain": [
       "array([0.23188406, 0.07729469, 0.        , 0.10628019, 0.03864734,\n",
       "       0.03864734, 0.11594203, 0.17391304, 0.03864734, 0.00483092,\n",
       "       0.01932367, 0.11594203, 0.03864734])"
      ]
     },
     "execution_count": 50,
     "metadata": {},
     "output_type": "execute_result"
    }
   ],
   "source": [
    "grads"
   ]
  },
  {
   "cell_type": "code",
   "execution_count": 67,
   "metadata": {},
   "outputs": [
    {
     "data": {
      "text/plain": [
       "array([0.41492852, 0.18586791, 0.17057888, 0.1270297 , 0.10159498])"
      ]
     },
     "execution_count": 67,
     "metadata": {},
     "output_type": "execute_result"
    }
   ],
   "source": [
    "probs / probs.sum()"
   ]
  },
  {
   "cell_type": "code",
   "execution_count": 88,
   "metadata": {},
   "outputs": [],
   "source": [
    "probabilities = np.array(outputs[\"probabilities\"])\n",
    "probabilities = probabilities / probabilities.sum()\n",
    "top_tokens = outputs[\"top_tokens\"]\n",
    "top_tokens = np.array(top_tokens).reshape(-1)\n",
    "token = np.random.choice(top_tokens, 1, p=probabilities)[0]"
   ]
  },
  {
   "cell_type": "code",
   "execution_count": 73,
   "metadata": {},
   "outputs": [
    {
     "data": {
      "text/plain": [
       "array([',', 'Ġwith', 'Ġ(', '.', 'Ġand'], dtype='<U5')"
      ]
     },
     "execution_count": 73,
     "metadata": {},
     "output_type": "execute_result"
    }
   ],
   "source": [
    "np.array(top_tokens).reshape(-1)"
   ]
  },
  {
   "cell_type": "code",
   "execution_count": 85,
   "metadata": {},
   "outputs": [
    {
     "data": {
      "text/plain": [
       "array([0.41492852, 0.18586791, 0.17057888, 0.1270297 , 0.10159498])"
      ]
     },
     "execution_count": 85,
     "metadata": {},
     "output_type": "execute_result"
    }
   ],
   "source": [
    "probabilities"
   ]
  },
  {
   "cell_type": "code",
   "execution_count": 91,
   "metadata": {},
   "outputs": [],
   "source": [
    "if token[0] == \"Ġ\":\n",
    "    token = token[1:]"
   ]
  },
  {
   "cell_type": "code",
   "execution_count": 92,
   "metadata": {},
   "outputs": [
    {
     "data": {
      "text/plain": [
       "'and'"
      ]
     },
     "execution_count": 92,
     "metadata": {},
     "output_type": "execute_result"
    }
   ],
   "source": [
    "token"
   ]
  },
  {
   "cell_type": "code",
   "execution_count": null,
   "metadata": {},
   "outputs": [],
   "source": []
  }
 ],
 "metadata": {
  "kernelspec": {
   "display_name": "Python 3",
   "language": "python",
   "name": "python3"
  },
  "language_info": {
   "codemirror_mode": {
    "name": "ipython",
    "version": 3
   },
   "file_extension": ".py",
   "mimetype": "text/x-python",
   "name": "python",
   "nbconvert_exporter": "python",
   "pygments_lexer": "ipython3",
   "version": "3.10.13"
  },
  "orig_nbformat": 4
 },
 "nbformat": 4,
 "nbformat_minor": 2
}
